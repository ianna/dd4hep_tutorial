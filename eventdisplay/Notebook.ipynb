{
 "cells": [
  {
   "cell_type": "code",
   "execution_count": null,
   "metadata": {},
   "outputs": [],
   "source": [
    "import eventdisplay as evd\n",
    "import plotly\n",
    "import plotly.graph_objs as go\n",
    "plotly.offline.init_notebook_mode()"
   ]
  },
  {
   "cell_type": "code",
   "execution_count": null,
   "metadata": {},
   "outputs": [],
   "source": [
    "prefix = '/home/wonyongc/src/hep/dd4hep_tutorial/build/'\n",
    "file = 'toy_calorimeter_output.root'\n",
    "\n",
    "subdet_collections = { \n",
    "    \"MCParticles\":           { 'type': 'MCParticle' },\n",
    "    \n",
    "    \"ToyCalorimeterHits\": { 'size': 10, 'shape':'diamond', 'color':'#b9c3c7', 'type': 'SimCalorimeterHit' },\n",
    "}\n",
    "layoutSettings = {\n",
    "    'width': 1000,\n",
    "    'height': 1000,\n",
    "    'xlim': [-3000,3000],\n",
    "    'ylim': [-3000,3000],\n",
    "    'zlim': [-3000,3000],\n",
    "    'legend_font_size': 12,\n",
    "    'itemwidth': 30,\n",
    "    'transparent': True,\n",
    "    'showGrid': True,\n",
    "    'projection': 'perspective',\n",
    "    # 'projection': 'orthographic',\n",
    "}\n",
    "MC_settings = {\n",
    "    'Ecutoff_GeV': 0,\n",
    "    'pathlength_mm': 0,\n",
    "    'limitPDG': False,\n",
    "    'PDG_show': [11,-11,22,-22],\n",
    "    'lineWidthByEnergy': False,\n",
    "    'defLineWidth': 2,\n",
    "    'sortBy': 'time'\n",
    "}\n",
    "\n",
    "eventnum=0\n",
    "maxMC=200\n",
    "\n",
    "detplot = evd.DetPlot(prefix+file, maxMC, subdet_collections, MC_settings)\n",
    "\n",
    "detplot.loadHitsForEvent(eventnum)\n",
    "detplot.print_sizes_for_event_num(eventnum)\n",
    "\n",
    "hitmarkers = detplot.getHitmarkersForEvent(eventnum)\n",
    "\n",
    "plotly.offline.iplot(go.Figure(data=hitmarkers, layout=detplot.getLayout(layoutSettings)))"
   ]
  }
 ],
 "metadata": {
  "kernelspec": {
   "display_name": "Python 3 (ipykernel)",
   "language": "python",
   "name": "python3"
  },
  "language_info": {
   "codemirror_mode": {
    "name": "ipython",
    "version": 3
   },
   "file_extension": ".py",
   "mimetype": "text/x-python",
   "name": "python",
   "nbconvert_exporter": "python",
   "pygments_lexer": "ipython3",
   "version": "3.13.2"
  }
 },
 "nbformat": 4,
 "nbformat_minor": 2
}
